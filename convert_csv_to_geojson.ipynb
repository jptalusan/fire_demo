{
 "cells": [
  {
   "cell_type": "code",
   "execution_count": null,
   "id": "165b4161",
   "metadata": {},
   "outputs": [],
   "source": [
    "import pandas as pd\n",
    "import geojson\n",
    "import geopandas as gpd"
   ]
  },
  {
   "cell_type": "markdown",
   "id": "b7fa0331",
   "metadata": {},
   "source": [
    "# Convert your CSV data to GeoJSON\n",
    "This script reads a CSV file containing incident data and converts it to GeoJSON format.\n",
    "> I didn't commit the samples.csv due to private data."
   ]
  },
  {
   "cell_type": "code",
   "execution_count": null,
   "id": "40207606",
   "metadata": {},
   "outputs": [],
   "source": [
    "# Load the CSV data into a DataFrame\n",
    "csv_file = \"data/survival_data_processed.csv\"  # Replace with the path to your CSV file\n",
    "df = pd.read_csv(csv_file)\n",
    "\n",
    "# Create a GeoJSON FeatureCollection\n",
    "features = []\n",
    "\n",
    "for index, row in df.iterrows():\n",
    "    feature = geojson.Feature(\n",
    "        geometry=geojson.Point((row[\"Longitude\"], row[\"Latitude\"])),\n",
    "        properties={\n",
    "            \"incident_id\": index,\n",
    "            \"lat\": row[\"Latitude\"],\n",
    "            \"lon\": row[\"Longitude\"],\n",
    "            \"cell_id\": row[\"cell_id\"],\n",
    "            \"Time\": row[\"Time\"],\n",
    "            \"weekday\": row[\"weekday\"],\n",
    "            \"historical_density\": row[\"historical_density\"],\n",
    "            \"xd\": row[\"xd\"],\n",
    "            \"weighted_population\": row[\"weighted_population\"],\n",
    "            \"weighted_housing_units\": row[\"weighted_housing_units\"],\n",
    "            \"cluster_label\": row[\"cluster_label\"],\n",
    "            \"speed\": row[\"speed\"],\n",
    "            \"reference_speed\": row[\"reference_speed\"],\n",
    "            \"historical_average_speed\": row[\"historical_average_speed\"],\n",
    "            \"travel_time_minutes\": row[\"travel_time_minutes\"],\n",
    "            \"tempf\": row[\"tempf\"],\n",
    "            \"dewPt\": row[\"dewPt\"],\n",
    "            \"rh\": row[\"rh\"],\n",
    "            \"wdir_cardinal\": row[\"wdir_cardinal\"],\n",
    "            \"wspd\": row[\"wspd\"],\n",
    "            \"gust\": row[\"gust\"],\n",
    "            \"pressure\": row[\"pressure\"],\n",
    "            \"precip\": row[\"precip\"],\n",
    "            \"wx_phrase\": row[\"wx_phrase\"],\n",
    "            \"oid\": row[\"oid\"],\n",
    "            \"IncidentNumber\": row[\"IncidentNumber\"],\n",
    "            \"AlarmDate\": row[\"AlarmDate\"],\n",
    "            \"PSAPDate\": row[\"PSAPDate\"],\n",
    "            \"time_bet\": row[\"time_bet\"],\n",
    "            \"window_1\": row[\"window_1\"],\n",
    "            \"window_2\": row[\"window_2\"],\n",
    "            \"window_3\": row[\"window_3\"],\n",
    "            \"window_4\": row[\"window_4\"],\n",
    "            \"window_5\": row[\"window_5\"],\n",
    "            \"original_historical_density\": row[\"original_historical_density\"],\n",
    "        },\n",
    "    )\n",
    "    features.append(feature)\n",
    "\n",
    "geojson_data = geojson.FeatureCollection(features)\n",
    "\n",
    "# Save the GeoJSON to a file\n",
    "output_file = \"data/incidents.geojson\"  # Replace with your desired output file path\n",
    "with open(output_file, \"w\") as f:\n",
    "    geojson.dump(geojson_data, f)\n",
    "\n",
    "print(f\"GeoJSON file saved to {output_file}\")"
   ]
  },
  {
   "cell_type": "code",
   "execution_count": 4,
   "id": "9571a96e",
   "metadata": {},
   "outputs": [
    {
     "name": "stdout",
     "output_type": "stream",
     "text": [
      "AlarmDate type: <class 'str'>\n"
     ]
    }
   ],
   "source": [
    "#check the type of AlarmDate feature in the geojson\n",
    "with open(output_file, \"r\") as f:\n",
    "    geojson_data = geojson.load(f)\n",
    "    for feature in geojson_data['features']:\n",
    "        if 'AlarmDate' in feature['properties']:\n",
    "            print(f\"AlarmDate type: {type(feature['properties']['AlarmDate'])}\")\n",
    "            break\n",
    "        else:\n",
    "            print(\"AlarmDate not found in properties.\")"
   ]
  },
  {
   "cell_type": "code",
   "execution_count": null,
   "id": "4284cca5",
   "metadata": {},
   "outputs": [],
   "source": [
    "\n",
    "# pandas show all column\n",
    "pd.set_option(\"display.max_columns\", None)\n",
    "df = gpd.read_file(output_file)\n",
    "df.plot()"
   ]
  }
 ],
 "metadata": {
  "kernelspec": {
   "display_name": "py3127",
   "language": "python",
   "name": "python3"
  },
  "language_info": {
   "codemirror_mode": {
    "name": "ipython",
    "version": 3
   },
   "file_extension": ".py",
   "mimetype": "text/x-python",
   "name": "python",
   "nbconvert_exporter": "python",
   "pygments_lexer": "ipython3",
   "version": "3.12.9"
  }
 },
 "nbformat": 4,
 "nbformat_minor": 5
}
